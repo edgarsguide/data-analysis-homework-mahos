{
 "cells": [
  {
   "cell_type": "markdown",
   "metadata": {},
   "source": [
    "# Data Analysis Challenges"
   ]
  },
  {
   "cell_type": "markdown",
   "metadata": {},
   "source": [
    "Here you will find 3 challenges for you to practice your skills in Python, NumPy and Matplotlib. Each challenge can be completed without completing the others. However, each challenge consists of sub-challenges and these are expected to be completed in sequence (e.g. Challenge 1.1 must be done beofre Challenge 1.2, but Challenge 3 can be completed without doing Challenge 1 or 2). Some subchallenges are marked as *Bonus*. These are more difficult challenge for you to dive deeper really sharpen your skills!"
   ]
  },
  {
   "cell_type": "markdown",
   "metadata": {},
   "source": [
    "Before you start, be sure to:\n",
    "\n",
    "1. Import NumPy package\n",
    "2. Import Matplotlib package\n",
    "3. Configure Matplotlib so plots will show up inside the notebook"
   ]
  },
  {
   "cell_type": "code",
   "execution_count": 7,
   "metadata": {},
   "outputs": [],
   "source": [
    "# do your imports and configuration here:\n",
    "import numpy as np\n",
    "import matplotlib.pyplot as plt \n",
    "%matplotlib inline\n"
   ]
  },
  {
   "cell_type": "markdown",
   "metadata": {},
   "source": [
    "# Challenge 1: Loading and plotting data from a text file"
   ]
  },
  {
   "cell_type": "markdown",
   "metadata": {},
   "source": [
    "Inside the data folder, you should find a file called `signals.dat`. Take a look at its content. The file has a few lines of **comment** that aids your understanding of the file content."
   ]
  },
  {
   "cell_type": "markdown",
   "metadata": {},
   "source": [
    "## Challenge 1.1"
   ]
  },
  {
   "cell_type": "markdown",
   "metadata": {},
   "source": [
    "Using NumPy's `loadtxt` function, read in the content of the text file. Be sure to read through the `loadtxt`'s docstring to get a good understanding of how it works.\n",
    "\n",
    "**Hints**\n",
    "1. You can always get docstring with `?` at the end: i.e. `np.loadtxt?`\n",
    "2. Pay special attention to what character is used in the file to separate individual data values\n",
    "3. The file contains couple lines of comments that must be skipped when loading. Check if `loadtxt` allows you to ignore certain lines. Also, read the content of the comment carefully!"
   ]
  },
  {
   "cell_type": "code",
   "execution_count": 3,
   "metadata": {},
   "outputs": [
    {
     "data": {
      "text/plain": [
       "\u001b[0;31mSignature:\u001b[0m \u001b[0mnp\u001b[0m\u001b[0;34m.\u001b[0m\u001b[0mloadtxt\u001b[0m\u001b[0;34m(\u001b[0m\u001b[0mfname\u001b[0m\u001b[0;34m,\u001b[0m \u001b[0mdtype\u001b[0m\u001b[0;34m=\u001b[0m\u001b[0;34m<\u001b[0m\u001b[0;32mclass\u001b[0m \u001b[0;34m'float'\u001b[0m\u001b[0;34m>\u001b[0m\u001b[0;34m,\u001b[0m \u001b[0mcomments\u001b[0m\u001b[0;34m=\u001b[0m\u001b[0;34m'#'\u001b[0m\u001b[0;34m,\u001b[0m \u001b[0mdelimiter\u001b[0m\u001b[0;34m=\u001b[0m\u001b[0;32mNone\u001b[0m\u001b[0;34m,\u001b[0m \u001b[0mconverters\u001b[0m\u001b[0;34m=\u001b[0m\u001b[0;32mNone\u001b[0m\u001b[0;34m,\u001b[0m \u001b[0mskiprows\u001b[0m\u001b[0;34m=\u001b[0m\u001b[0;36m0\u001b[0m\u001b[0;34m,\u001b[0m \u001b[0musecols\u001b[0m\u001b[0;34m=\u001b[0m\u001b[0;32mNone\u001b[0m\u001b[0;34m,\u001b[0m \u001b[0munpack\u001b[0m\u001b[0;34m=\u001b[0m\u001b[0;32mFalse\u001b[0m\u001b[0;34m,\u001b[0m \u001b[0mndmin\u001b[0m\u001b[0;34m=\u001b[0m\u001b[0;36m0\u001b[0m\u001b[0;34m,\u001b[0m \u001b[0mencoding\u001b[0m\u001b[0;34m=\u001b[0m\u001b[0;34m'bytes'\u001b[0m\u001b[0;34m)\u001b[0m\u001b[0;34m\u001b[0m\u001b[0m\n",
       "\u001b[0;31mDocstring:\u001b[0m\n",
       "Load data from a text file.\n",
       "\n",
       "Each row in the text file must have the same number of values.\n",
       "\n",
       "Parameters\n",
       "----------\n",
       "fname : file, str, or pathlib.Path\n",
       "    File, filename, or generator to read.  If the filename extension is\n",
       "    ``.gz`` or ``.bz2``, the file is first decompressed. Note that\n",
       "    generators should return byte strings for Python 3k.\n",
       "dtype : data-type, optional\n",
       "    Data-type of the resulting array; default: float.  If this is a\n",
       "    structured data-type, the resulting array will be 1-dimensional, and\n",
       "    each row will be interpreted as an element of the array.  In this\n",
       "    case, the number of columns used must match the number of fields in\n",
       "    the data-type.\n",
       "comments : str or sequence of str, optional\n",
       "    The characters or list of characters used to indicate the start of a\n",
       "    comment. For backwards compatibility, byte strings will be decoded as\n",
       "    'latin1'. The default is '#'.\n",
       "delimiter : str, optional\n",
       "    The string used to separate values. For backwards compatibility, byte\n",
       "    strings will be decoded as 'latin1'. The default is whitespace.\n",
       "converters : dict, optional\n",
       "    A dictionary mapping column number to a function that will convert\n",
       "    that column to a float.  E.g., if column 0 is a date string:\n",
       "    ``converters = {0: datestr2num}``.  Converters can also be used to\n",
       "    provide a default value for missing data (but see also `genfromtxt`):\n",
       "    ``converters = {3: lambda s: float(s.strip() or 0)}``.  Default: None.\n",
       "skiprows : int, optional\n",
       "    Skip the first `skiprows` lines; default: 0.\n",
       "usecols : int or sequence, optional\n",
       "    Which columns to read, with 0 being the first. For example,\n",
       "    usecols = (1,4,5) will extract the 2nd, 5th and 6th columns.\n",
       "    The default, None, results in all columns being read.\n",
       "\n",
       "    .. versionchanged:: 1.11.0\n",
       "        When a single column has to be read it is possible to use\n",
       "        an integer instead of a tuple. E.g ``usecols = 3`` reads the\n",
       "        fourth column the same way as `usecols = (3,)`` would.\n",
       "unpack : bool, optional\n",
       "    If True, the returned array is transposed, so that arguments may be\n",
       "    unpacked using ``x, y, z = loadtxt(...)``.  When used with a structured\n",
       "    data-type, arrays are returned for each field.  Default is False.\n",
       "ndmin : int, optional\n",
       "    The returned array will have at least `ndmin` dimensions.\n",
       "    Otherwise mono-dimensional axes will be squeezed.\n",
       "    Legal values: 0 (default), 1 or 2.\n",
       "\n",
       "    .. versionadded:: 1.6.0\n",
       "encoding : str, optional\n",
       "    Encoding used to decode the inputfile. Does not apply to input streams.\n",
       "    The special value 'bytes' enables backward compatibility workarounds\n",
       "    that ensures you receive byte arrays as results if possible and passes\n",
       "    latin1 encoded strings to converters. Override this value to receive\n",
       "    unicode arrays and pass strings as input to converters.  If set to None\n",
       "    the system default is used. The default value is 'bytes'.\n",
       "\n",
       "    .. versionadded:: 1.14.0\n",
       "\n",
       "Returns\n",
       "-------\n",
       "out : ndarray\n",
       "    Data read from the text file.\n",
       "\n",
       "See Also\n",
       "--------\n",
       "load, fromstring, fromregex\n",
       "genfromtxt : Load data with missing values handled as specified.\n",
       "scipy.io.loadmat : reads MATLAB data files\n",
       "\n",
       "Notes\n",
       "-----\n",
       "This function aims to be a fast reader for simply formatted files.  The\n",
       "`genfromtxt` function provides more sophisticated handling of, e.g.,\n",
       "lines with missing values.\n",
       "\n",
       ".. versionadded:: 1.10.0\n",
       "\n",
       "The strings produced by the Python float.hex method can be used as\n",
       "input for floats.\n",
       "\n",
       "Examples\n",
       "--------\n",
       ">>> from io import StringIO   # StringIO behaves like a file object\n",
       ">>> c = StringIO(\"0 1\\n2 3\")\n",
       ">>> np.loadtxt(c)\n",
       "array([[ 0.,  1.],\n",
       "       [ 2.,  3.]])\n",
       "\n",
       ">>> d = StringIO(\"M 21 72\\nF 35 58\")\n",
       ">>> np.loadtxt(d, dtype={'names': ('gender', 'age', 'weight'),\n",
       "...                      'formats': ('S1', 'i4', 'f4')})\n",
       "array([('M', 21, 72.0), ('F', 35, 58.0)],\n",
       "      dtype=[('gender', '|S1'), ('age', '<i4'), ('weight', '<f4')])\n",
       "\n",
       ">>> c = StringIO(\"1,0,2\\n3,0,4\")\n",
       ">>> x, y = np.loadtxt(c, delimiter=',', usecols=(0, 2), unpack=True)\n",
       ">>> x\n",
       "array([ 1.,  3.])\n",
       ">>> y\n",
       "array([ 2.,  4.])\n",
       "\u001b[0;31mFile:\u001b[0m      /anaconda3/lib/python3.6/site-packages/numpy/lib/npyio.py\n",
       "\u001b[0;31mType:\u001b[0m      function\n"
      ]
     },
     "metadata": {},
     "output_type": "display_data"
    }
   ],
   "source": [
    "np.loadtxt?"
   ]
  },
  {
   "cell_type": "code",
   "execution_count": 8,
   "metadata": {},
   "outputs": [],
   "source": [
    "signals = np.loadtxt('data/signals.dat', skiprows=5, delimiter=\";\")"
   ]
  },
  {
   "cell_type": "code",
   "execution_count": 10,
   "metadata": {},
   "outputs": [
    {
     "data": {
      "text/plain": [
       "array([[ 0.       ,  0.1010101,  0.2020202,  0.3030303,  0.4040404,\n",
       "         0.5050505,  0.6060606,  0.7070707,  0.8080808,  0.9090909,\n",
       "         1.010101 ,  1.1111111,  1.2121212,  1.3131313,  1.4141414,\n",
       "         1.5151515,  1.6161616,  1.7171717,  1.8181818,  1.9191919,\n",
       "         2.020202 ,  2.1212121,  2.2222222,  2.3232323,  2.4242424,\n",
       "         2.5252525,  2.6262626,  2.7272727,  2.8282828,  2.9292929,\n",
       "         3.030303 ,  3.1313131,  3.2323232,  3.3333333,  3.4343434,\n",
       "         3.5353535,  3.6363636,  3.7373737,  3.8383838,  3.9393939,\n",
       "         4.040404 ,  4.1414141,  4.2424242,  4.3434343,  4.4444444,\n",
       "         4.5454545,  4.6464646,  4.7474747,  4.8484848,  4.9494949,\n",
       "         5.0505051,  5.1515152,  5.2525253,  5.3535354,  5.4545455,\n",
       "         5.5555556,  5.6565657,  5.7575758,  5.8585859,  5.959596 ,\n",
       "         6.0606061,  6.1616162,  6.2626263,  6.3636364,  6.4646465,\n",
       "         6.5656566,  6.6666667,  6.7676768,  6.8686869,  6.969697 ,\n",
       "         7.0707071,  7.1717172,  7.2727273,  7.3737374,  7.4747475,\n",
       "         7.5757576,  7.6767677,  7.7777778,  7.8787879,  7.979798 ,\n",
       "         8.0808081,  8.1818182,  8.2828283,  8.3838384,  8.4848485,\n",
       "         8.5858586,  8.6868687,  8.7878788,  8.8888889,  8.989899 ,\n",
       "         9.0909091,  9.1919192,  9.2929293,  9.3939394,  9.4949495,\n",
       "         9.5959596,  9.6969697,  9.7979798,  9.8989899, 10.       ],\n",
       "       [ 0.       ,  0.0989559,  0.1857536,  0.2490601,  0.2791463,\n",
       "         0.2685733,  0.2127479,  0.1103136, -0.0366462, -0.222609 ,\n",
       "        -0.4388185, -0.6736899, -0.9133943, -1.1425951, -1.3452991,\n",
       "        -1.5057783, -1.609514 , -1.6441123, -1.6001409, -1.4718387,\n",
       "        -1.2576578, -0.9606012, -0.5883331, -0.1530466,  0.3289118,\n",
       "         0.8376526,  1.3505631,  1.8433059,  2.2909498,  2.6691829,\n",
       "         2.9555495,  3.1306514,  3.1792519,  3.0912257,  2.8623021,\n",
       "         2.4945581,  1.9966281,  1.38361  ,  0.6766604, -0.0977115,\n",
       "        -0.9086319, -1.7220918, -2.5023726, -3.2136058, -3.8214   ,\n",
       "        -4.2944618, -4.6061359, -4.7357912, -4.6699829, -4.4033323,\n",
       "        -3.9390727, -3.2892278, -2.4744015, -1.523177 , -0.4711397,\n",
       "         0.6404442,  1.7662438,  2.8587124,  3.8700927,  4.7544944,\n",
       "         5.4699541,  5.9803859,  6.2573329,  6.2814383,  6.0435612,\n",
       "         5.5454808,  4.8001448,  3.8314404,  2.6734843,  1.3694495,\n",
       "        -0.0300306, -1.468824 , -2.8875511, -4.2260343, -5.4258472,\n",
       "        -6.4328521, -7.1996196, -7.687621 , -7.8690934, -7.7284918,\n",
       "        -7.2634522, -6.4852178, -5.4184925, -4.1007197, -2.5808008,\n",
       "        -0.917297 ,  0.8238196,  2.571781 ,  4.2538994,  5.7985886,\n",
       "         7.1384045,  8.2129759,  8.9716993,  9.3760775,  9.4015958,\n",
       "         9.0390477,  8.2952412,  7.1930451,  5.7707588,  4.0808206],\n",
       "       [ 0.       ,  0.1395138, -0.018292 , -0.4549518, -0.7992942,\n",
       "        -0.6221669,  0.1619505,  1.121762 ,  1.5467269,  0.9642902,\n",
       "        -0.4352466, -1.8139186, -2.1946498, -1.1502087,  0.8113536,\n",
       "         2.4807723,  2.7034849,  1.1784561, -1.2529662, -3.0722299,\n",
       "        -3.0448999, -1.0617231,  1.7155402,  3.5429351,  3.2040338,\n",
       "         0.8255901, -2.1511693, -3.8560662, -3.1805861, -0.5061568,\n",
       "         2.5127675,  3.9864294,  2.9886782,  0.146773 , -2.758199 ,\n",
       "        -3.9225848, -2.6555021,  0.2058508,  2.8540051,  3.6678239,\n",
       "         2.2188721, -0.5058176, -2.7784064, -3.2399162, -1.7238895,\n",
       "         0.7121457,  2.5233246,  2.6696456,  1.2190073, -0.7924475,\n",
       "        -2.0952499, -1.9982602, -0.7518284,  0.7258688,  1.5148765,\n",
       "         1.2740526,  0.3649972, -0.5050369, -0.8155366, -0.5483601,\n",
       "        -0.0925357,  0.1368491,  0.0405625, -0.1286766, -0.0430653,\n",
       "         0.3579667,  0.7602002,  0.7122366,  0.032752 , -0.9464851,\n",
       "        -1.5344353, -1.1664742,  0.1183537,  1.586271 ,  2.2316116,\n",
       "         1.467398 , -0.3914415, -2.228896 , -2.8070932, -1.6047317,\n",
       "         0.7556877,  2.8239847,  3.2257555,  1.5825981, -1.1709718,\n",
       "        -3.3234487, -3.464803 , -1.4189734,  1.5914032,  3.6855462,\n",
       "         3.5155506,  1.1439577, -1.9693567, -3.8784249, -3.3840176,\n",
       "        -0.7970142,  2.2596718,  3.8828453,  3.0902884,  0.423412 ],\n",
       "       [10.       ,  9.6559824,  9.3237996,  9.0030445,  8.6933239,\n",
       "         8.3942582,  8.1054809,  7.8266381,  7.557388 ,  7.2974005,\n",
       "         7.0463571,  6.80395  ,  6.5698821,  6.3438666,  6.1256264,\n",
       "         5.9148941,  5.7114113,  5.5149287,  5.3252054,  5.142009 ,\n",
       "         4.9651148,  4.7943061,  4.6293736,  4.470115 ,  4.3163351,\n",
       "         4.1678456,  4.0244644,  3.8860157,  3.7523299,  3.6232432,\n",
       "         3.4985972,  3.3782393,  3.2620219,  3.1498026,  3.0414439,\n",
       "         2.9368128,  2.8357813,  2.7382254,  2.6440257,  2.5530665,\n",
       "         2.4652365,  2.3804281,  2.2985371,  2.2194634,  2.14311  ,\n",
       "         2.0693832,  1.9981928,  1.9294514,  1.8630749,  1.7989818,\n",
       "         1.7370937,  1.6773346,  1.6196313,  1.5639132,  1.5101118,\n",
       "         1.4581613,  1.407998 ,  1.3595604,  1.3127891,  1.2676268,\n",
       "         1.2240182,  1.1819099,  1.1412501,  1.1019891,  1.0640787,\n",
       "         1.0274725,  0.9921257,  0.9579948,  0.9250381,  0.8932151,\n",
       "         0.862487 ,  0.8328159,  0.8041656,  0.7765008,  0.7497879,\n",
       "         0.7239938,  0.6990872,  0.6750373,  0.6518149,  0.6293913,\n",
       "         0.6077391,  0.5868318,  0.5666438,  0.5471502,  0.5283273,\n",
       "         0.5101519,  0.4926018,  0.4756554,  0.459292 ,  0.4434916,\n",
       "         0.4282347,  0.4135027,  0.3992774,  0.3855416,  0.3722783,\n",
       "         0.3594713,  0.3471048,  0.3351638,  0.3236336,  0.3125   ]])"
      ]
     },
     "execution_count": 10,
     "metadata": {},
     "output_type": "execute_result"
    }
   ],
   "source": [
    "signals"
   ]
  },
  {
   "cell_type": "code",
   "execution_count": 14,
   "metadata": {},
   "outputs": [
    {
     "data": {
      "text/plain": [
       "(4, 100)"
      ]
     },
     "execution_count": 14,
     "metadata": {},
     "output_type": "execute_result"
    }
   ],
   "source": [
    "signals.shape"
   ]
  },
  {
   "cell_type": "markdown",
   "metadata": {},
   "source": [
    "## Challenge 1.2"
   ]
  },
  {
   "cell_type": "markdown",
   "metadata": {},
   "source": [
    "Once loaded, you should get 4 signals with 100 data points. The fisrt signal is the value of time over which all other three signals are defined.\n",
    "\n",
    "Plot the three signals on a same plot. Be sure to **label** each signal with an appropriate name (Hint: legend). Also be sure to label each axis, and give a title.\n",
    "\n",
    "**Hint**: Be sure to read through the content of the data file to get a good understanding of the data, and reflect them in your plot."
   ]
  },
  {
   "cell_type": "code",
   "execution_count": 31,
   "metadata": {},
   "outputs": [
    {
     "data": {
      "text/plain": [
       "<matplotlib.legend.Legend at 0x117e3e1d0>"
      ]
     },
     "execution_count": 31,
     "metadata": {},
     "output_type": "execute_result"
    },
    {
     "data": {
      "image/png": "[encoded data removed]",
      "text/plain": [
       "<Figure size 432x288 with 1 Axes>"
      ]
     },
     "metadata": {},
     "output_type": "display_data"
    }
   ],
   "source": [
    "timeValue = signals[0]\n",
    "plt.plot(timeValue, signals[1], label='exponential sinusoid')\n",
    "plt.plot(timeValue, signals[2], label='chirping sinusoid')\n",
    "plt.plot(timeValue, signals[3], label='expential decay')\n",
    "plt.xlabel('Time (s)')\n",
    "plt.ylabel('mV')\n",
    "plt.legend()"
   ]
  },
  {
   "cell_type": "code",
   "execution_count": 23,
   "metadata": {},
   "outputs": [
    {
     "data": {
      "text/plain": [
       "array([ 0.       ,  0.1010101,  0.2020202,  0.3030303,  0.4040404,\n",
       "        0.5050505,  0.6060606,  0.7070707,  0.8080808,  0.9090909,\n",
       "        1.010101 ,  1.1111111,  1.2121212,  1.3131313,  1.4141414,\n",
       "        1.5151515,  1.6161616,  1.7171717,  1.8181818,  1.9191919,\n",
       "        2.020202 ,  2.1212121,  2.2222222,  2.3232323,  2.4242424,\n",
       "        2.5252525,  2.6262626,  2.7272727,  2.8282828,  2.9292929,\n",
       "        3.030303 ,  3.1313131,  3.2323232,  3.3333333,  3.4343434,\n",
       "        3.5353535,  3.6363636,  3.7373737,  3.8383838,  3.9393939,\n",
       "        4.040404 ,  4.1414141,  4.2424242,  4.3434343,  4.4444444,\n",
       "        4.5454545,  4.6464646,  4.7474747,  4.8484848,  4.9494949,\n",
       "        5.0505051,  5.1515152,  5.2525253,  5.3535354,  5.4545455,\n",
       "        5.5555556,  5.6565657,  5.7575758,  5.8585859,  5.959596 ,\n",
       "        6.0606061,  6.1616162,  6.2626263,  6.3636364,  6.4646465,\n",
       "        6.5656566,  6.6666667,  6.7676768,  6.8686869,  6.969697 ,\n",
       "        7.0707071,  7.1717172,  7.2727273,  7.3737374,  7.4747475,\n",
       "        7.5757576,  7.6767677,  7.7777778,  7.8787879,  7.979798 ,\n",
       "        8.0808081,  8.1818182,  8.2828283,  8.3838384,  8.4848485,\n",
       "        8.5858586,  8.6868687,  8.7878788,  8.8888889,  8.989899 ,\n",
       "        9.0909091,  9.1919192,  9.2929293,  9.3939394,  9.4949495,\n",
       "        9.5959596,  9.6969697,  9.7979798,  9.8989899, 10.       ])"
      ]
     },
     "execution_count": 23,
     "metadata": {},
     "output_type": "execute_result"
    }
   ],
   "source": [
    "timeValue"
   ]
  },
  {
   "cell_type": "markdown",
   "metadata": {},
   "source": [
    "## Challenge 1.3"
   ]
  },
  {
   "cell_type": "markdown",
   "metadata": {},
   "source": [
    "**Save your figure** into a file called `signals.png`. To find out what function in Matplotlib you will need to use, Google online. Be sure to use good keywords in your search. Also, be sure to save your figure at high enough resolution (i.e. at least 200 dpi). \n",
    "\n",
    "**Hint**: `matplotlib.pyplot` is equivalent to the `plt`. Remember that you do: `import matplotlib.pyplot as plt`?"
   ]
  },
  {
   "cell_type": "code",
   "execution_count": 44,
   "metadata": {},
   "outputs": [
    {
     "data": {
      "image/png": "[encoded data removed]",
      "text/plain": [
       "<Figure size 432x288 with 1 Axes>"
      ]
     },
     "metadata": {},
     "output_type": "display_data"
    }
   ],
   "source": [
    "fig, ax = plt.subplots()\n",
    "timeValue = signals[0]\n",
    "ax.plot(timeValue, signals[1], label='exponential sinusoid')\n",
    "ax.plot(timeValue, signals[2], label='chirping sinusoid')\n",
    "ax.plot(timeValue, signals[3], label='expential decay')\n",
    "plt.xlabel('Time (s)')\n",
    "plt.ylabel('mV')\n",
    "ax.legend()\n",
    "plt.savefig('signals.png', dpi=200)"
   ]
  },
  {
   "cell_type": "code",
   "execution_count": 46,
   "metadata": {},
   "outputs": [
    {
     "data": {
      "text/plain": [
       "\u001b[0;31mSignature:\u001b[0m \u001b[0mplt\u001b[0m\u001b[0;34m.\u001b[0m\u001b[0msavefig\u001b[0m\u001b[0;34m(\u001b[0m\u001b[0;34m*\u001b[0m\u001b[0margs\u001b[0m\u001b[0;34m,\u001b[0m \u001b[0;34m**\u001b[0m\u001b[0mkwargs\u001b[0m\u001b[0;34m)\u001b[0m\u001b[0;34m\u001b[0m\u001b[0m\n",
       "\u001b[0;31mDocstring:\u001b[0m\n",
       "Save the current figure.\n",
       "\n",
       "Call signature::\n",
       "\n",
       "  savefig(fname, dpi=None, facecolor='w', edgecolor='w',\n",
       "          orientation='portrait', papertype=None, format=None,\n",
       "          transparent=False, bbox_inches=None, pad_inches=0.1,\n",
       "          frameon=None)\n",
       "\n",
       "The output formats available depend on the backend being used.\n",
       "\n",
       "Parameters\n",
       "----------\n",
       "\n",
       "fname : str or file-like object\n",
       "    A string containing a path to a filename, or a Python\n",
       "    file-like object, or possibly some backend-dependent object\n",
       "    such as :class:`~matplotlib.backends.backend_pdf.PdfPages`.\n",
       "\n",
       "    If *format* is *None* and *fname* is a string, the output\n",
       "    format is deduced from the extension of the filename. If\n",
       "    the filename has no extension, the value of the rc parameter\n",
       "    ``savefig.format`` is used.\n",
       "\n",
       "    If *fname* is not a string, remember to specify *format* to\n",
       "    ensure that the correct backend is used.\n",
       "\n",
       "Other Parameters\n",
       "----------------\n",
       "\n",
       "dpi : [ *None* | scalar > 0 | 'figure']\n",
       "    The resolution in dots per inch.  If *None* it will default to\n",
       "    the value ``savefig.dpi`` in the matplotlibrc file. If 'figure'\n",
       "    it will set the dpi to be the value of the figure.\n",
       "\n",
       "facecolor : color spec or None, optional\n",
       "    the facecolor of the figure; if None, defaults to savefig.facecolor\n",
       "\n",
       "edgecolor : color spec or None, optional\n",
       "    the edgecolor of the figure; if None, defaults to savefig.edgecolor\n",
       "\n",
       "orientation : {'landscape', 'portrait'}\n",
       "    not supported on all backends; currently only on postscript output\n",
       "\n",
       "papertype : str\n",
       "    One of 'letter', 'legal', 'executive', 'ledger', 'a0' through\n",
       "    'a10', 'b0' through 'b10'. Only supported for postscript\n",
       "    output.\n",
       "\n",
       "format : str\n",
       "    One of the file extensions supported by the active\n",
       "    backend.  Most backends support png, pdf, ps, eps and svg.\n",
       "\n",
       "transparent : bool\n",
       "    If *True*, the axes patches will all be transparent; the\n",
       "    figure patch will also be transparent unless facecolor\n",
       "    and/or edgecolor are specified via kwargs.\n",
       "    This is useful, for example, for displaying\n",
       "    a plot on top of a colored background on a web page.  The\n",
       "    transparency of these patches will be restored to their\n",
       "    original values upon exit of this function.\n",
       "\n",
       "frameon : bool\n",
       "    If *True*, the figure patch will be colored, if *False*, the\n",
       "    figure background will be transparent.  If not provided, the\n",
       "    rcParam 'savefig.frameon' will be used.\n",
       "\n",
       "bbox_inches : str or `~matplotlib.transforms.Bbox`, optional\n",
       "    Bbox in inches. Only the given portion of the figure is\n",
       "    saved. If 'tight', try to figure out the tight bbox of\n",
       "    the figure. If None, use savefig.bbox\n",
       "\n",
       "pad_inches : scalar, optional\n",
       "    Amount of padding around the figure when bbox_inches is\n",
       "    'tight'. If None, use savefig.pad_inches\n",
       "\n",
       "bbox_extra_artists : list of `~matplotlib.artist.Artist`, optional\n",
       "    A list of extra artists that will be considered when the\n",
       "    tight bbox is calculated.\n",
       "\u001b[0;31mFile:\u001b[0m      /anaconda3/lib/python3.6/site-packages/matplotlib/pyplot.py\n",
       "\u001b[0;31mType:\u001b[0m      function\n"
      ]
     },
     "metadata": {},
     "output_type": "display_data"
    }
   ],
   "source": [
    "# https://matplotlib.org/api/_as_gen/matplotlib.pyplot.savefig.html\n",
    "plt.savefig?"
   ]
  },
  {
   "cell_type": "markdown",
   "metadata": {},
   "source": [
    "## Challenge 1.4"
   ]
  },
  {
   "cell_type": "markdown",
   "metadata": {},
   "source": [
    "For each signal, compute the means and standard deviations. Store your results in some variables for use in the next sub-challenge.\n",
    "\n",
    "**Hint**: Make sure you use `axis` keyword arugment correctly."
   ]
  },
  {
   "cell_type": "code",
   "execution_count": 47,
   "metadata": {},
   "outputs": [
    {
     "data": {
      "text/plain": [
       "\u001b[0;31mSignature:\u001b[0m \u001b[0mnp\u001b[0m\u001b[0;34m.\u001b[0m\u001b[0mmean\u001b[0m\u001b[0;34m(\u001b[0m\u001b[0ma\u001b[0m\u001b[0;34m,\u001b[0m \u001b[0maxis\u001b[0m\u001b[0;34m=\u001b[0m\u001b[0;32mNone\u001b[0m\u001b[0;34m,\u001b[0m \u001b[0mdtype\u001b[0m\u001b[0;34m=\u001b[0m\u001b[0;32mNone\u001b[0m\u001b[0;34m,\u001b[0m \u001b[0mout\u001b[0m\u001b[0;34m=\u001b[0m\u001b[0;32mNone\u001b[0m\u001b[0;34m,\u001b[0m \u001b[0mkeepdims\u001b[0m\u001b[0;34m=\u001b[0m\u001b[0;34m<\u001b[0m\u001b[0;32mclass\u001b[0m \u001b[0;34m'numpy._globals._NoValue'\u001b[0m\u001b[0;34m>\u001b[0m\u001b[0;34m)\u001b[0m\u001b[0;34m\u001b[0m\u001b[0m\n",
       "\u001b[0;31mDocstring:\u001b[0m\n",
       "Compute the arithmetic mean along the specified axis.\n",
       "\n",
       "Returns the average of the array elements.  The average is taken over\n",
       "the flattened array by default, otherwise over the specified axis.\n",
       "`float64` intermediate and return values are used for integer inputs.\n",
       "\n",
       "Parameters\n",
       "----------\n",
       "a : array_like\n",
       "    Array containing numbers whose mean is desired. If `a` is not an\n",
       "    array, a conversion is attempted.\n",
       "axis : None or int or tuple of ints, optional\n",
       "    Axis or axes along which the means are computed. The default is to\n",
       "    compute the mean of the flattened array.\n",
       "\n",
       "    .. versionadded:: 1.7.0\n",
       "\n",
       "    If this is a tuple of ints, a mean is performed over multiple axes,\n",
       "    instead of a single axis or all the axes as before.\n",
       "dtype : data-type, optional\n",
       "    Type to use in computing the mean.  For integer inputs, the default\n",
       "    is `float64`; for floating point inputs, it is the same as the\n",
       "    input dtype.\n",
       "out : ndarray, optional\n",
       "    Alternate output array in which to place the result.  The default\n",
       "    is ``None``; if provided, it must have the same shape as the\n",
       "    expected output, but the type will be cast if necessary.\n",
       "    See `doc.ufuncs` for details.\n",
       "\n",
       "keepdims : bool, optional\n",
       "    If this is set to True, the axes which are reduced are left\n",
       "    in the result as dimensions with size one. With this option,\n",
       "    the result will broadcast correctly against the input array.\n",
       "\n",
       "    If the default value is passed, then `keepdims` will not be\n",
       "    passed through to the `mean` method of sub-classes of\n",
       "    `ndarray`, however any non-default value will be.  If the\n",
       "    sub-classes `sum` method does not implement `keepdims` any\n",
       "    exceptions will be raised.\n",
       "\n",
       "Returns\n",
       "-------\n",
       "m : ndarray, see dtype parameter above\n",
       "    If `out=None`, returns a new array containing the mean values,\n",
       "    otherwise a reference to the output array is returned.\n",
       "\n",
       "See Also\n",
       "--------\n",
       "average : Weighted average\n",
       "std, var, nanmean, nanstd, nanvar\n",
       "\n",
       "Notes\n",
       "-----\n",
       "The arithmetic mean is the sum of the elements along the axis divided\n",
       "by the number of elements.\n",
       "\n",
       "Note that for floating-point input, the mean is computed using the\n",
       "same precision the input has.  Depending on the input data, this can\n",
       "cause the results to be inaccurate, especially for `float32` (see\n",
       "example below).  Specifying a higher-precision accumulator using the\n",
       "`dtype` keyword can alleviate this issue.\n",
       "\n",
       "By default, `float16` results are computed using `float32` intermediates\n",
       "for extra precision.\n",
       "\n",
       "Examples\n",
       "--------\n",
       ">>> a = np.array([[1, 2], [3, 4]])\n",
       ">>> np.mean(a)\n",
       "2.5\n",
       ">>> np.mean(a, axis=0)\n",
       "array([ 2.,  3.])\n",
       ">>> np.mean(a, axis=1)\n",
       "array([ 1.5,  3.5])\n",
       "\n",
       "In single precision, `mean` can be inaccurate:\n",
       "\n",
       ">>> a = np.zeros((2, 512*512), dtype=np.float32)\n",
       ">>> a[0, :] = 1.0\n",
       ">>> a[1, :] = 0.1\n",
       ">>> np.mean(a)\n",
       "0.54999924\n",
       "\n",
       "Computing the mean in float64 is more accurate:\n",
       "\n",
       ">>> np.mean(a, dtype=np.float64)\n",
       "0.55000000074505806\n",
       "\u001b[0;31mFile:\u001b[0m      /anaconda3/lib/python3.6/site-packages/numpy/core/fromnumeric.py\n",
       "\u001b[0;31mType:\u001b[0m      function\n"
      ]
     },
     "metadata": {},
     "output_type": "display_data"
    }
   ],
   "source": [
    "np.mean?"
   ]
  },
  {
   "cell_type": "code",
   "execution_count": 57,
   "metadata": {},
   "outputs": [
    {
     "data": {
      "text/plain": [
       "array([[ 0.       ,  0.1010101,  0.2020202,  0.3030303,  0.4040404,\n",
       "         0.5050505,  0.6060606,  0.7070707,  0.8080808,  0.9090909,\n",
       "         1.010101 ,  1.1111111,  1.2121212,  1.3131313,  1.4141414,\n",
       "         1.5151515,  1.6161616,  1.7171717,  1.8181818,  1.9191919,\n",
       "         2.020202 ,  2.1212121,  2.2222222,  2.3232323,  2.4242424,\n",
       "         2.5252525,  2.6262626,  2.7272727,  2.8282828,  2.9292929,\n",
       "         3.030303 ,  3.1313131,  3.2323232,  3.3333333,  3.4343434,\n",
       "         3.5353535,  3.6363636,  3.7373737,  3.8383838,  3.9393939,\n",
       "         4.040404 ,  4.1414141,  4.2424242,  4.3434343,  4.4444444,\n",
       "         4.5454545,  4.6464646,  4.7474747,  4.8484848,  4.9494949,\n",
       "         5.0505051,  5.1515152,  5.2525253,  5.3535354,  5.4545455,\n",
       "         5.5555556,  5.6565657,  5.7575758,  5.8585859,  5.959596 ,\n",
       "         6.0606061,  6.1616162,  6.2626263,  6.3636364,  6.4646465,\n",
       "         6.5656566,  6.6666667,  6.7676768,  6.8686869,  6.969697 ,\n",
       "         7.0707071,  7.1717172,  7.2727273,  7.3737374,  7.4747475,\n",
       "         7.5757576,  7.6767677,  7.7777778,  7.8787879,  7.979798 ,\n",
       "         8.0808081,  8.1818182,  8.2828283,  8.3838384,  8.4848485,\n",
       "         8.5858586,  8.6868687,  8.7878788,  8.8888889,  8.989899 ,\n",
       "         9.0909091,  9.1919192,  9.2929293,  9.3939394,  9.4949495,\n",
       "         9.5959596,  9.6969697,  9.7979798,  9.8989899, 10.       ],\n",
       "       [ 0.       ,  0.0989559,  0.1857536,  0.2490601,  0.2791463,\n",
       "         0.2685733,  0.2127479,  0.1103136, -0.0366462, -0.222609 ,\n",
       "        -0.4388185, -0.6736899, -0.9133943, -1.1425951, -1.3452991,\n",
       "        -1.5057783, -1.609514 , -1.6441123, -1.6001409, -1.4718387,\n",
       "        -1.2576578, -0.9606012, -0.5883331, -0.1530466,  0.3289118,\n",
       "         0.8376526,  1.3505631,  1.8433059,  2.2909498,  2.6691829,\n",
       "         2.9555495,  3.1306514,  3.1792519,  3.0912257,  2.8623021,\n",
       "         2.4945581,  1.9966281,  1.38361  ,  0.6766604, -0.0977115,\n",
       "        -0.9086319, -1.7220918, -2.5023726, -3.2136058, -3.8214   ,\n",
       "        -4.2944618, -4.6061359, -4.7357912, -4.6699829, -4.4033323,\n",
       "        -3.9390727, -3.2892278, -2.4744015, -1.523177 , -0.4711397,\n",
       "         0.6404442,  1.7662438,  2.8587124,  3.8700927,  4.7544944,\n",
       "         5.4699541,  5.9803859,  6.2573329,  6.2814383,  6.0435612,\n",
       "         5.5454808,  4.8001448,  3.8314404,  2.6734843,  1.3694495,\n",
       "        -0.0300306, -1.468824 , -2.8875511, -4.2260343, -5.4258472,\n",
       "        -6.4328521, -7.1996196, -7.687621 , -7.8690934, -7.7284918,\n",
       "        -7.2634522, -6.4852178, -5.4184925, -4.1007197, -2.5808008,\n",
       "        -0.917297 ,  0.8238196,  2.571781 ,  4.2538994,  5.7985886,\n",
       "         7.1384045,  8.2129759,  8.9716993,  9.3760775,  9.4015958,\n",
       "         9.0390477,  8.2952412,  7.1930451,  5.7707588,  4.0808206],\n",
       "       [ 0.       ,  0.1395138, -0.018292 , -0.4549518, -0.7992942,\n",
       "        -0.6221669,  0.1619505,  1.121762 ,  1.5467269,  0.9642902,\n",
       "        -0.4352466, -1.8139186, -2.1946498, -1.1502087,  0.8113536,\n",
       "         2.4807723,  2.7034849,  1.1784561, -1.2529662, -3.0722299,\n",
       "        -3.0448999, -1.0617231,  1.7155402,  3.5429351,  3.2040338,\n",
       "         0.8255901, -2.1511693, -3.8560662, -3.1805861, -0.5061568,\n",
       "         2.5127675,  3.9864294,  2.9886782,  0.146773 , -2.758199 ,\n",
       "        -3.9225848, -2.6555021,  0.2058508,  2.8540051,  3.6678239,\n",
       "         2.2188721, -0.5058176, -2.7784064, -3.2399162, -1.7238895,\n",
       "         0.7121457,  2.5233246,  2.6696456,  1.2190073, -0.7924475,\n",
       "        -2.0952499, -1.9982602, -0.7518284,  0.7258688,  1.5148765,\n",
       "         1.2740526,  0.3649972, -0.5050369, -0.8155366, -0.5483601,\n",
       "        -0.0925357,  0.1368491,  0.0405625, -0.1286766, -0.0430653,\n",
       "         0.3579667,  0.7602002,  0.7122366,  0.032752 , -0.9464851,\n",
       "        -1.5344353, -1.1664742,  0.1183537,  1.586271 ,  2.2316116,\n",
       "         1.467398 , -0.3914415, -2.228896 , -2.8070932, -1.6047317,\n",
       "         0.7556877,  2.8239847,  3.2257555,  1.5825981, -1.1709718,\n",
       "        -3.3234487, -3.464803 , -1.4189734,  1.5914032,  3.6855462,\n",
       "         3.5155506,  1.1439577, -1.9693567, -3.8784249, -3.3840176,\n",
       "        -0.7970142,  2.2596718,  3.8828453,  3.0902884,  0.423412 ],\n",
       "       [10.       ,  9.6559824,  9.3237996,  9.0030445,  8.6933239,\n",
       "         8.3942582,  8.1054809,  7.8266381,  7.557388 ,  7.2974005,\n",
       "         7.0463571,  6.80395  ,  6.5698821,  6.3438666,  6.1256264,\n",
       "         5.9148941,  5.7114113,  5.5149287,  5.3252054,  5.142009 ,\n",
       "         4.9651148,  4.7943061,  4.6293736,  4.470115 ,  4.3163351,\n",
       "         4.1678456,  4.0244644,  3.8860157,  3.7523299,  3.6232432,\n",
       "         3.4985972,  3.3782393,  3.2620219,  3.1498026,  3.0414439,\n",
       "         2.9368128,  2.8357813,  2.7382254,  2.6440257,  2.5530665,\n",
       "         2.4652365,  2.3804281,  2.2985371,  2.2194634,  2.14311  ,\n",
       "         2.0693832,  1.9981928,  1.9294514,  1.8630749,  1.7989818,\n",
       "         1.7370937,  1.6773346,  1.6196313,  1.5639132,  1.5101118,\n",
       "         1.4581613,  1.407998 ,  1.3595604,  1.3127891,  1.2676268,\n",
       "         1.2240182,  1.1819099,  1.1412501,  1.1019891,  1.0640787,\n",
       "         1.0274725,  0.9921257,  0.9579948,  0.9250381,  0.8932151,\n",
       "         0.862487 ,  0.8328159,  0.8041656,  0.7765008,  0.7497879,\n",
       "         0.7239938,  0.6990872,  0.6750373,  0.6518149,  0.6293913,\n",
       "         0.6077391,  0.5868318,  0.5666438,  0.5471502,  0.5283273,\n",
       "         0.5101519,  0.4926018,  0.4756554,  0.459292 ,  0.4434916,\n",
       "         0.4282347,  0.4135027,  0.3992774,  0.3855416,  0.3722783,\n",
       "         0.3594713,  0.3471048,  0.3351638,  0.3236336,  0.3125   ]])"
      ]
     },
     "execution_count": 57,
     "metadata": {},
     "output_type": "execute_result"
    }
   ],
   "source": [
    "signals"
   ]
  },
  {
   "cell_type": "code",
   "execution_count": 94,
   "metadata": {},
   "outputs": [],
   "source": [
    "# mean1 = np.mean(signals[1])\n",
    "# mean2 = np.mean(signals[2])\n",
    "# mean3 = np.mean(signals[3])\n",
    "mean0, mean1, mean2, mean3 = np.mean(signals, axis=1)\n",
    "#means = np.mean(signals, axis=1)"
   ]
  },
  {
   "cell_type": "code",
   "execution_count": 99,
   "metadata": {},
   "outputs": [
    {
     "name": "stdout",
     "output_type": "stream",
     "text": [
      "mean 1 is 0.4560741220000001, mean 2 is 0.04350024199999997, mean 3 is 2.819114532\n"
     ]
    }
   ],
   "source": [
    "print(\"mean 1 is {}, mean 2 is {}, mean 3 is {}\".format(mean1, mean2, mean3))"
   ]
  },
  {
   "cell_type": "code",
   "execution_count": 72,
   "metadata": {},
   "outputs": [
    {
     "data": {
      "text/plain": [
       "\u001b[0;31mSignature:\u001b[0m \u001b[0mnp\u001b[0m\u001b[0;34m.\u001b[0m\u001b[0mstd\u001b[0m\u001b[0;34m(\u001b[0m\u001b[0ma\u001b[0m\u001b[0;34m,\u001b[0m \u001b[0maxis\u001b[0m\u001b[0;34m=\u001b[0m\u001b[0;32mNone\u001b[0m\u001b[0;34m,\u001b[0m \u001b[0mdtype\u001b[0m\u001b[0;34m=\u001b[0m\u001b[0;32mNone\u001b[0m\u001b[0;34m,\u001b[0m \u001b[0mout\u001b[0m\u001b[0;34m=\u001b[0m\u001b[0;32mNone\u001b[0m\u001b[0;34m,\u001b[0m \u001b[0mddof\u001b[0m\u001b[0;34m=\u001b[0m\u001b[0;36m0\u001b[0m\u001b[0;34m,\u001b[0m \u001b[0mkeepdims\u001b[0m\u001b[0;34m=\u001b[0m\u001b[0;34m<\u001b[0m\u001b[0;32mclass\u001b[0m \u001b[0;34m'numpy._globals._NoValue'\u001b[0m\u001b[0;34m>\u001b[0m\u001b[0;34m)\u001b[0m\u001b[0;34m\u001b[0m\u001b[0m\n",
       "\u001b[0;31mDocstring:\u001b[0m\n",
       "Compute the standard deviation along the specified axis.\n",
       "\n",
       "Returns the standard deviation, a measure of the spread of a distribution,\n",
       "of the array elements. The standard deviation is computed for the\n",
       "flattened array by default, otherwise over the specified axis.\n",
       "\n",
       "Parameters\n",
       "----------\n",
       "a : array_like\n",
       "    Calculate the standard deviation of these values.\n",
       "axis : None or int or tuple of ints, optional\n",
       "    Axis or axes along which the standard deviation is computed. The\n",
       "    default is to compute the standard deviation of the flattened array.\n",
       "\n",
       "    .. versionadded:: 1.7.0\n",
       "\n",
       "    If this is a tuple of ints, a standard deviation is performed over\n",
       "    multiple axes, instead of a single axis or all the axes as before.\n",
       "dtype : dtype, optional\n",
       "    Type to use in computing the standard deviation. For arrays of\n",
       "    integer type the default is float64, for arrays of float types it is\n",
       "    the same as the array type.\n",
       "out : ndarray, optional\n",
       "    Alternative output array in which to place the result. It must have\n",
       "    the same shape as the expected output but the type (of the calculated\n",
       "    values) will be cast if necessary.\n",
       "ddof : int, optional\n",
       "    Means Delta Degrees of Freedom.  The divisor used in calculations\n",
       "    is ``N - ddof``, where ``N`` represents the number of elements.\n",
       "    By default `ddof` is zero.\n",
       "keepdims : bool, optional\n",
       "    If this is set to True, the axes which are reduced are left\n",
       "    in the result as dimensions with size one. With this option,\n",
       "    the result will broadcast correctly against the input array.\n",
       "\n",
       "    If the default value is passed, then `keepdims` will not be\n",
       "    passed through to the `std` method of sub-classes of\n",
       "    `ndarray`, however any non-default value will be.  If the\n",
       "    sub-classes `sum` method does not implement `keepdims` any\n",
       "    exceptions will be raised.\n",
       "\n",
       "Returns\n",
       "-------\n",
       "standard_deviation : ndarray, see dtype parameter above.\n",
       "    If `out` is None, return a new array containing the standard deviation,\n",
       "    otherwise return a reference to the output array.\n",
       "\n",
       "See Also\n",
       "--------\n",
       "var, mean, nanmean, nanstd, nanvar\n",
       "numpy.doc.ufuncs : Section \"Output arguments\"\n",
       "\n",
       "Notes\n",
       "-----\n",
       "The standard deviation is the square root of the average of the squared\n",
       "deviations from the mean, i.e., ``std = sqrt(mean(abs(x - x.mean())**2))``.\n",
       "\n",
       "The average squared deviation is normally calculated as\n",
       "``x.sum() / N``, where ``N = len(x)``.  If, however, `ddof` is specified,\n",
       "the divisor ``N - ddof`` is used instead. In standard statistical\n",
       "practice, ``ddof=1`` provides an unbiased estimator of the variance\n",
       "of the infinite population. ``ddof=0`` provides a maximum likelihood\n",
       "estimate of the variance for normally distributed variables. The\n",
       "standard deviation computed in this function is the square root of\n",
       "the estimated variance, so even with ``ddof=1``, it will not be an\n",
       "unbiased estimate of the standard deviation per se.\n",
       "\n",
       "Note that, for complex numbers, `std` takes the absolute\n",
       "value before squaring, so that the result is always real and nonnegative.\n",
       "\n",
       "For floating-point input, the *std* is computed using the same\n",
       "precision the input has. Depending on the input data, this can cause\n",
       "the results to be inaccurate, especially for float32 (see example below).\n",
       "Specifying a higher-accuracy accumulator using the `dtype` keyword can\n",
       "alleviate this issue.\n",
       "\n",
       "Examples\n",
       "--------\n",
       ">>> a = np.array([[1, 2], [3, 4]])\n",
       ">>> np.std(a)\n",
       "1.1180339887498949\n",
       ">>> np.std(a, axis=0)\n",
       "array([ 1.,  1.])\n",
       ">>> np.std(a, axis=1)\n",
       "array([ 0.5,  0.5])\n",
       "\n",
       "In single precision, std() can be inaccurate:\n",
       "\n",
       ">>> a = np.zeros((2, 512*512), dtype=np.float32)\n",
       ">>> a[0, :] = 1.0\n",
       ">>> a[1, :] = 0.1\n",
       ">>> np.std(a)\n",
       "0.45000005\n",
       "\n",
       "Computing the standard deviation in float64 is more accurate:\n",
       "\n",
       ">>> np.std(a, dtype=np.float64)\n",
       "0.44999999925494177\n",
       "\u001b[0;31mFile:\u001b[0m      /anaconda3/lib/python3.6/site-packages/numpy/core/fromnumeric.py\n",
       "\u001b[0;31mType:\u001b[0m      function\n"
      ]
     },
     "metadata": {},
     "output_type": "display_data"
    }
   ],
   "source": [
    "np.std?"
   ]
  },
  {
   "cell_type": "code",
   "execution_count": 73,
   "metadata": {},
   "outputs": [],
   "source": [
    "std0, std1, std2, std3 = np.std(signals, axis=1)"
   ]
  },
  {
   "cell_type": "code",
   "execution_count": 100,
   "metadata": {},
   "outputs": [
    {
     "name": "stdout",
     "output_type": "stream",
     "text": [
      "std 1 is 4.152423110847881, std 2 is 2.0452413625770567, std 3 is 2.612975869355622\n"
     ]
    }
   ],
   "source": [
    "print(\"std 1 is {}, std 2 is {}, std 3 is {}\".format(std1, std2, std3))"
   ]
  },
  {
   "cell_type": "markdown",
   "metadata": {},
   "source": [
    "## Challenge 1.5"
   ]
  },
  {
   "cell_type": "markdown",
   "metadata": {},
   "source": [
    "**Plot the means and standard deviations as bar plots with error bars**: height of the bar is the mean and error bar is the +/- 1 standard deviation.\n",
    "\n",
    "Bar plots can be created with `plt.bar` - study it's documentation carefully to see how to use it and how to plot error bars.\n",
    "\n",
    "Be sure to label both x-axis and y-axis."
   ]
  },
  {
   "cell_type": "code",
   "execution_count": 77,
   "metadata": {},
   "outputs": [
    {
     "data": {
      "text/plain": [
       "\u001b[0;31mSignature:\u001b[0m \u001b[0mplt\u001b[0m\u001b[0;34m.\u001b[0m\u001b[0mbar\u001b[0m\u001b[0;34m(\u001b[0m\u001b[0;34m*\u001b[0m\u001b[0margs\u001b[0m\u001b[0;34m,\u001b[0m \u001b[0;34m**\u001b[0m\u001b[0mkwargs\u001b[0m\u001b[0;34m)\u001b[0m\u001b[0;34m\u001b[0m\u001b[0m\n",
       "\u001b[0;31mDocstring:\u001b[0m\n",
       "Make a bar plot.\n",
       "\n",
       "Call signatures::\n",
       "\n",
       "   bar(x, height, *, align='center', **kwargs)\n",
       "   bar(x, height, width, *, align='center', **kwargs)\n",
       "   bar(x, height, width, bottom, *, align='center', **kwargs)\n",
       "\n",
       "The bars are positioned at *x* with the given *align* ment. Their\n",
       "dimensions are given by *width* and *height*. The vertical baseline\n",
       "is *bottom* (default 0).\n",
       "\n",
       "Each of *x*, *height*, *width*, and *bottom* may either be a scalar\n",
       "applying to all bars, or it may be a sequence of length N providing a\n",
       "separate value for each bar.\n",
       "\n",
       "\n",
       "Parameters\n",
       "----------\n",
       "x : sequence of scalars\n",
       "    The x coordinates of the bars. See also *align* for the\n",
       "    alignment of the bars to the coordinates.\n",
       "\n",
       "height : scalar or sequence of scalars\n",
       "    The height(s) of the bars.\n",
       "\n",
       "width : scalar or array-like, optional\n",
       "    The width(s) of the bars (default: 0.8).\n",
       "\n",
       "bottom : scalar or array-like, optional\n",
       "    The y coordinate(s) of the bars bases (default: 0).\n",
       "\n",
       "align : {'center', 'edge'}, optional, default: 'center'\n",
       "    Alignment of the bars to the *x* coordinates:\n",
       "\n",
       "    - 'center': Center the base on the *x* positions.\n",
       "    - 'edge': Align the left edges of the bars with the *x* positions.\n",
       "\n",
       "    To align the bars on the right edge pass a negative *width* and\n",
       "    ``align='edge'``.\n",
       "\n",
       "Returns\n",
       "-------\n",
       "`.BarContainer`\n",
       "    Container with all the bars and optionally errorbars.\n",
       "\n",
       "Other Parameters\n",
       "----------------\n",
       "color : scalar or array-like, optional\n",
       "    The colors of the bar faces.\n",
       "\n",
       "edgecolor : scalar or array-like, optional\n",
       "    The colors of the bar edges.\n",
       "\n",
       "linewidth : scalar or array-like, optional\n",
       "    Width of the bar edge(s). If 0, don't draw edges.\n",
       "\n",
       "tick_label : string or array-like, optional\n",
       "    The tick labels of the bars.\n",
       "    Default: None (Use default numeric labels.)\n",
       "\n",
       "xerr, yerr : scalar or array-like of shape(N,) or shape(2,N), optional\n",
       "    If not *None*, add horizontal / vertical errorbars to the bar tips.\n",
       "    The values are +/- sizes relative to the data:\n",
       "\n",
       "    - scalar: symmetric +/- values for all bars\n",
       "    - shape(N,): symmetric +/- values for each bar\n",
       "    - shape(2,N): separate + and - values for each bar\n",
       "\n",
       "    Default: None\n",
       "\n",
       "ecolor : scalar or array-like, optional, default: 'black'\n",
       "    The line color of the errorbars.\n",
       "\n",
       "capsize : scalar, optional\n",
       "   The length of the error bar caps in points.\n",
       "   Default: None, which will take the value from\n",
       "   :rc:`errorbar.capsize`.\n",
       "\n",
       "error_kw : dict, optional\n",
       "    Dictionary of kwargs to be passed to the `~.Axes.errorbar`\n",
       "    method. Values of *ecolor* or *capsize* defined here take\n",
       "    precedence over the independent kwargs.\n",
       "\n",
       "log : bool, optional, default: False\n",
       "    If *True*, set the y-axis to be log scale.\n",
       "\n",
       "orientation : {'vertical',  'horizontal'}, optional\n",
       "    *This is for internal use only.* Please use `barh` for\n",
       "    horizontal bar plots. Default: 'vertical'.\n",
       "\n",
       "See also\n",
       "--------\n",
       "barh: Plot a horizontal bar plot.\n",
       "\n",
       "Notes\n",
       "-----\n",
       "The optional arguments *color*, *edgecolor*, *linewidth*,\n",
       "*xerr*, and *yerr* can be either scalars or sequences of\n",
       "length equal to the number of bars.  This enables you to use\n",
       "bar as the basis for stacked bar charts, or candlestick plots.\n",
       "Detail: *xerr* and *yerr* are passed directly to\n",
       ":meth:`errorbar`, so they can also have shape 2xN for\n",
       "independent specification of lower and upper errors.\n",
       "\n",
       "Other optional kwargs:\n",
       "\n",
       "  agg_filter: a filter function, which takes a (m, n, 3) float array and a dpi value, and returns a (m, n, 3) array \n",
       "  alpha: float or None \n",
       "  animated: bool \n",
       "  antialiased or aa: bool or None \n",
       "  capstyle: ['butt' | 'round' | 'projecting'] \n",
       "  clip_box: a `.Bbox` instance \n",
       "  clip_on: bool \n",
       "  clip_path: [(`~matplotlib.path.Path`, `.Transform`) | `.Patch` | None] \n",
       "  color: matplotlib color spec\n",
       "  contains: a callable function \n",
       "  edgecolor or ec: mpl color spec, None, 'none', or 'auto' \n",
       "  facecolor or fc: mpl color spec, or None for default, or 'none' for no color \n",
       "  figure: a `.Figure` instance \n",
       "  fill: bool \n",
       "  gid: an id string \n",
       "  hatch: ['/' | '\\\\' | '|' | '-' | '+' | 'x' | 'o' | 'O' | '.' | '*'] \n",
       "  joinstyle: ['miter' | 'round' | 'bevel'] \n",
       "  label: object \n",
       "  linestyle or ls: ['solid' | 'dashed', 'dashdot', 'dotted' | (offset, on-off-dash-seq) | ``'-'`` | ``'--'`` | ``'-.'`` | ``':'`` | ``'None'`` | ``' '`` | ``''``]\n",
       "  linewidth or lw: float or None for default \n",
       "  path_effects: `.AbstractPathEffect` \n",
       "  picker: [None | bool | float | callable] \n",
       "  rasterized: bool or None \n",
       "  sketch_params: (scale: float, length: float, randomness: float) \n",
       "  snap: bool or None \n",
       "  transform: `.Transform` \n",
       "  url: a url string \n",
       "  visible: bool \n",
       "  zorder: float \n",
       "\n",
       ".. note::\n",
       "    In addition to the above described arguments, this function can take a\n",
       "    **data** keyword argument. If such a **data** argument is given, the\n",
       "    following arguments are replaced by **data[<arg>]**:\n",
       "\n",
       "    * All arguments with the following names: 'bottom', 'color', 'ecolor', 'edgecolor', 'height', 'left', 'linewidth', 'tick_label', 'width', 'x', 'xerr', 'y', 'yerr'.\n",
       "    * All positional arguments.\n",
       "\u001b[0;31mFile:\u001b[0m      /anaconda3/lib/python3.6/site-packages/matplotlib/pyplot.py\n",
       "\u001b[0;31mType:\u001b[0m      function\n"
      ]
     },
     "metadata": {},
     "output_type": "display_data"
    }
   ],
   "source": [
    "plt.bar?"
   ]
  },
  {
   "cell_type": "code",
   "execution_count": 83,
   "metadata": {},
   "outputs": [
    {
     "data": {
      "text/plain": [
       "array([5.        , 0.45607412, 0.04350024, 2.81911453])"
      ]
     },
     "execution_count": 83,
     "metadata": {},
     "output_type": "execute_result"
    }
   ],
   "source": [
    "means"
   ]
  },
  {
   "cell_type": "code",
   "execution_count": 98,
   "metadata": {},
   "outputs": [
    {
     "data": {
      "text/plain": [
       "<BarContainer object of 1 artists>"
      ]
     },
     "execution_count": 98,
     "metadata": {},
     "output_type": "execute_result"
    },
    {
     "data": {
      "image/png": "[encoded data removed]",
      "text/plain": [
       "<Figure size 432x288 with 1 Axes>"
      ]
     },
     "metadata": {},
     "output_type": "display_data"
    }
   ],
   "source": [
    "# for m, i in means:\n",
    "#     plt.bar(i, m)\n",
    "plt.bar(1, mean1, yerr=std1)\n",
    "plt.bar(2, mean2, yerr=std2)\n",
    "plt.bar(3, mean3, yerr=std3)"
   ]
  },
  {
   "cell_type": "markdown",
   "metadata": {},
   "source": [
    "## Challenge 1.6"
   ]
  },
  {
   "cell_type": "markdown",
   "metadata": {},
   "source": [
    "Repeat 1.4 and 1.5 but this time showing the mean and standard deivation bar plots for the **first half in time of the signals** as one plot and for the **second half in time of the signals** as another plot.\n",
    "\n",
    "**Hint**:\n",
    "1. Split your data into two halfs based on the time\n",
    "2. Plot two sets of bar plots into separate `subplot`s.\n",
    "3. Make sure you put appropriate titles."
   ]
  },
  {
   "cell_type": "code",
   "execution_count": 137,
   "metadata": {},
   "outputs": [
    {
     "name": "stdout",
     "output_type": "stream",
     "text": [
      "this is [ 0.         0.1010101  0.2020202  0.3030303  0.4040404  0.5050505\n",
      "  0.6060606  0.7070707  0.8080808  0.9090909  1.010101   1.1111111\n",
      "  1.2121212  1.3131313  1.4141414  1.5151515  1.6161616  1.7171717\n",
      "  1.8181818  1.9191919  2.020202   2.1212121  2.2222222  2.3232323\n",
      "  2.4242424  2.5252525  2.6262626  2.7272727  2.8282828  2.9292929\n",
      "  3.030303   3.1313131  3.2323232  3.3333333  3.4343434  3.5353535\n",
      "  3.6363636  3.7373737  3.8383838  3.9393939  4.040404   4.1414141\n",
      "  4.2424242  4.3434343  4.4444444  4.5454545  4.6464646  4.7474747\n",
      "  4.8484848  4.9494949  5.0505051  5.1515152  5.2525253  5.3535354\n",
      "  5.4545455  5.5555556  5.6565657  5.7575758  5.8585859  5.959596\n",
      "  6.0606061  6.1616162  6.2626263  6.3636364  6.4646465  6.5656566\n",
      "  6.6666667  6.7676768  6.8686869  6.969697   7.0707071  7.1717172\n",
      "  7.2727273  7.3737374  7.4747475  7.5757576  7.6767677  7.7777778\n",
      "  7.8787879  7.979798   8.0808081  8.1818182  8.2828283  8.3838384\n",
      "  8.4848485  8.5858586  8.6868687  8.7878788  8.8888889  8.989899\n",
      "  9.0909091  9.1919192  9.2929293  9.3939394  9.4949495  9.5959596\n",
      "  9.6969697  9.7979798  9.8989899 10.       ]\n",
      "index is 0\n",
      "this is [ 0.         0.0989559  0.1857536  0.2490601  0.2791463  0.2685733\n",
      "  0.2127479  0.1103136 -0.0366462 -0.222609  -0.4388185 -0.6736899\n",
      " -0.9133943 -1.1425951 -1.3452991 -1.5057783 -1.609514  -1.6441123\n",
      " -1.6001409 -1.4718387 -1.2576578 -0.9606012 -0.5883331 -0.1530466\n",
      "  0.3289118  0.8376526  1.3505631  1.8433059  2.2909498  2.6691829\n",
      "  2.9555495  3.1306514  3.1792519  3.0912257  2.8623021  2.4945581\n",
      "  1.9966281  1.38361    0.6766604 -0.0977115 -0.9086319 -1.7220918\n",
      " -2.5023726 -3.2136058 -3.8214    -4.2944618 -4.6061359 -4.7357912\n",
      " -4.6699829 -4.4033323 -3.9390727 -3.2892278 -2.4744015 -1.523177\n",
      " -0.4711397  0.6404442  1.7662438  2.8587124  3.8700927  4.7544944\n",
      "  5.4699541  5.9803859  6.2573329  6.2814383  6.0435612  5.5454808\n",
      "  4.8001448  3.8314404  2.6734843  1.3694495 -0.0300306 -1.468824\n",
      " -2.8875511 -4.2260343 -5.4258472 -6.4328521 -7.1996196 -7.687621\n",
      " -7.8690934 -7.7284918 -7.2634522 -6.4852178 -5.4184925 -4.1007197\n",
      " -2.5808008 -0.917297   0.8238196  2.571781   4.2538994  5.7985886\n",
      "  7.1384045  8.2129759  8.9716993  9.3760775  9.4015958  9.0390477\n",
      "  8.2952412  7.1930451  5.7707588  4.0808206]\n",
      "index is 1\n",
      "this is [ 0.         0.1395138 -0.018292  -0.4549518 -0.7992942 -0.6221669\n",
      "  0.1619505  1.121762   1.5467269  0.9642902 -0.4352466 -1.8139186\n",
      " -2.1946498 -1.1502087  0.8113536  2.4807723  2.7034849  1.1784561\n",
      " -1.2529662 -3.0722299 -3.0448999 -1.0617231  1.7155402  3.5429351\n",
      "  3.2040338  0.8255901 -2.1511693 -3.8560662 -3.1805861 -0.5061568\n",
      "  2.5127675  3.9864294  2.9886782  0.146773  -2.758199  -3.9225848\n",
      " -2.6555021  0.2058508  2.8540051  3.6678239  2.2188721 -0.5058176\n",
      " -2.7784064 -3.2399162 -1.7238895  0.7121457  2.5233246  2.6696456\n",
      "  1.2190073 -0.7924475 -2.0952499 -1.9982602 -0.7518284  0.7258688\n",
      "  1.5148765  1.2740526  0.3649972 -0.5050369 -0.8155366 -0.5483601\n",
      " -0.0925357  0.1368491  0.0405625 -0.1286766 -0.0430653  0.3579667\n",
      "  0.7602002  0.7122366  0.032752  -0.9464851 -1.5344353 -1.1664742\n",
      "  0.1183537  1.586271   2.2316116  1.467398  -0.3914415 -2.228896\n",
      " -2.8070932 -1.6047317  0.7556877  2.8239847  3.2257555  1.5825981\n",
      " -1.1709718 -3.3234487 -3.464803  -1.4189734  1.5914032  3.6855462\n",
      "  3.5155506  1.1439577 -1.9693567 -3.8784249 -3.3840176 -0.7970142\n",
      "  2.2596718  3.8828453  3.0902884  0.423412 ]\n",
      "index is 2\n",
      "this is [10.         9.6559824  9.3237996  9.0030445  8.6933239  8.3942582\n",
      "  8.1054809  7.8266381  7.557388   7.2974005  7.0463571  6.80395\n",
      "  6.5698821  6.3438666  6.1256264  5.9148941  5.7114113  5.5149287\n",
      "  5.3252054  5.142009   4.9651148  4.7943061  4.6293736  4.470115\n",
      "  4.3163351  4.1678456  4.0244644  3.8860157  3.7523299  3.6232432\n",
      "  3.4985972  3.3782393  3.2620219  3.1498026  3.0414439  2.9368128\n",
      "  2.8357813  2.7382254  2.6440257  2.5530665  2.4652365  2.3804281\n",
      "  2.2985371  2.2194634  2.14311    2.0693832  1.9981928  1.9294514\n",
      "  1.8630749  1.7989818  1.7370937  1.6773346  1.6196313  1.5639132\n",
      "  1.5101118  1.4581613  1.407998   1.3595604  1.3127891  1.2676268\n",
      "  1.2240182  1.1819099  1.1412501  1.1019891  1.0640787  1.0274725\n",
      "  0.9921257  0.9579948  0.9250381  0.8932151  0.862487   0.8328159\n",
      "  0.8041656  0.7765008  0.7497879  0.7239938  0.6990872  0.6750373\n",
      "  0.6518149  0.6293913  0.6077391  0.5868318  0.5666438  0.5471502\n",
      "  0.5283273  0.5101519  0.4926018  0.4756554  0.459292   0.4434916\n",
      "  0.4282347  0.4135027  0.3992774  0.3855416  0.3722783  0.3594713\n",
      "  0.3471048  0.3351638  0.3236336  0.3125   ]\n",
      "index is 3\n"
     ]
    }
   ],
   "source": [
    "for index, x in enumerate(signals):\n",
    "    print(\"this is {}\".format(x))\n",
    "    print(\"index is {}\".format(index))"
   ]
  },
  {
   "cell_type": "code",
   "execution_count": 140,
   "metadata": {},
   "outputs": [],
   "source": [
    "half_point = len(signals[0]) // 2\n",
    "first_half_signals = np.zeros((len(signals), half_point)) #initialize a numpy array with shape (4, 50)\n",
    "second_half_signals = np.zeros((len(signals), half_point)) \n",
    "for index, s in enumerate(signals):\n",
    "    first_half_signals[index] = s[:half_point]\n",
    "    second_half_signals[index] = s[half_point:]"
   ]
  },
  {
   "cell_type": "code",
   "execution_count": 146,
   "metadata": {},
   "outputs": [],
   "source": [
    "first_mean = np.mean(first_half_signals,axis=1)\n",
    "first_std = np.std(first_half_signals,axis=1)\n",
    "second_mean = np.mean(second_half_signals,axis=1)\n",
    "second_std = np.std(second_half_signals,axis=1)"
   ]
  },
  {
   "cell_type": "code",
   "execution_count": 148,
   "metadata": {},
   "outputs": [
    {
     "data": {
      "text/plain": [
       "array([ 2.47474745, -0.36088077,  0.04220887,  4.80376932])"
      ]
     },
     "execution_count": 148,
     "metadata": {},
     "output_type": "execute_result"
    }
   ],
   "source": [
    "first_mean"
   ]
  },
  {
   "cell_type": "code",
   "execution_count": 149,
   "metadata": {},
   "outputs": [
    {
     "data": {
      "text/plain": [
       "<BarContainer object of 1 artists>"
      ]
     },
     "execution_count": 149,
     "metadata": {},
     "output_type": "execute_result"
    },
    {
     "data": {
      "image/png": "[encoded data removed]",
      "text/plain": [
       "<Figure size 432x288 with 1 Axes>"
      ]
     },
     "metadata": {},
     "output_type": "display_data"
    }
   ],
   "source": [
    "plt.bar(1, first_mean[1], yerr=first_std[1])\n",
    "plt.bar(2, first_mean[2], yerr=first_std[2])\n",
    "plt.bar(3, first_mean[3], yerr=first_std[3])"
   ]
  },
  {
   "cell_type": "code",
   "execution_count": 153,
   "metadata": {},
   "outputs": [
    {
     "data": {
      "text/plain": [
       "\u001b[0;31mSignature:\u001b[0m \u001b[0mfig\u001b[0m\u001b[0;34m.\u001b[0m\u001b[0msuptitle\u001b[0m\u001b[0;34m(\u001b[0m\u001b[0mt\u001b[0m\u001b[0;34m,\u001b[0m \u001b[0;34m**\u001b[0m\u001b[0mkwargs\u001b[0m\u001b[0;34m)\u001b[0m\u001b[0;34m\u001b[0m\u001b[0m\n",
       "\u001b[0;31mDocstring:\u001b[0m\n",
       "Add a centered title to the figure.\n",
       "\n",
       "kwargs are :class:`matplotlib.text.Text` properties.  Using figure\n",
       "coordinates, the defaults are:\n",
       "\n",
       "  x : 0.5\n",
       "    The x location of the text in figure coords\n",
       "\n",
       "  y : 0.98\n",
       "    The y location of the text in figure coords\n",
       "\n",
       "  horizontalalignment : 'center'\n",
       "    The horizontal alignment of the text\n",
       "\n",
       "  verticalalignment : 'top'\n",
       "    The vertical alignment of the text\n",
       "\n",
       "If the `fontproperties` keyword argument is given then the\n",
       "rcParams defaults for `fontsize` (`figure.titlesize`) and\n",
       "`fontweight` (`figure.titleweight`) will be ignored in favour\n",
       "of the `FontProperties` defaults.\n",
       "\n",
       "A :class:`matplotlib.text.Text` instance is returned.\n",
       "\n",
       "Example::\n",
       "\n",
       "  fig.suptitle('this is the figure title', fontsize=12)\n",
       "\u001b[0;31mFile:\u001b[0m      /anaconda3/lib/python3.6/site-packages/matplotlib/figure.py\n",
       "\u001b[0;31mType:\u001b[0m      method\n"
      ]
     },
     "metadata": {},
     "output_type": "display_data"
    }
   ],
   "source": [
    "fig.suptitle?"
   ]
  },
  {
   "cell_type": "code",
   "execution_count": 166,
   "metadata": {},
   "outputs": [
    {
     "data": {
      "text/plain": [
       "\u001b[0;31mSignature:\u001b[0m \u001b[0mfig\u001b[0m\u001b[0;34m.\u001b[0m\u001b[0mlegend\u001b[0m\u001b[0;34m(\u001b[0m\u001b[0;34m*\u001b[0m\u001b[0margs\u001b[0m\u001b[0;34m,\u001b[0m \u001b[0;34m**\u001b[0m\u001b[0mkwargs\u001b[0m\u001b[0;34m)\u001b[0m\u001b[0;34m\u001b[0m\u001b[0m\n",
       "\u001b[0;31mDocstring:\u001b[0m\n",
       "Place a legend on the figure.\n",
       "\n",
       "To make a legend from existing artists on every axes::\n",
       "\n",
       "  legend()\n",
       "\n",
       "To make a legend for a list of lines and labels::\n",
       "\n",
       "  legend( (line1, line2, line3),\n",
       "          ('label1', 'label2', 'label3'),\n",
       "          loc='upper right')\n",
       "\n",
       "These can also be specified by keyword::\n",
       "\n",
       "  legend(handles=(line1, line2, line3),\n",
       "        labels=('label1', 'label2', 'label3'),\n",
       "        loc='upper right')\n",
       "\n",
       "Parameters\n",
       "----------\n",
       "\n",
       "handles : sequence of `.Artist`, optional\n",
       "    A list of Artists (lines, patches) to be added to the legend.\n",
       "    Use this together with *labels*, if you need full control on what\n",
       "    is shown in the legend and the automatic mechanism described above\n",
       "    is not sufficient.\n",
       "\n",
       "    The length of handles and labels should be the same in this\n",
       "    case. If they are not, they are truncated to the smaller length.\n",
       "\n",
       "labels : sequence of strings, optional\n",
       "    A list of labels to show next to the artists.\n",
       "    Use this together with *handles*, if you need full control on what\n",
       "    is shown in the legend and the automatic mechanism described above\n",
       "    is not sufficient.\n",
       "\n",
       "Other Parameters\n",
       "----------------\n",
       "\n",
       "loc : int or string or pair of floats, default: 'upper right'\n",
       "    The location of the legend. Possible codes are:\n",
       "\n",
       "        ===============   =============\n",
       "        Location String   Location Code\n",
       "        ===============   =============\n",
       "        'best'            0\n",
       "        'upper right'     1\n",
       "        'upper left'      2\n",
       "        'lower left'      3\n",
       "        'lower right'     4\n",
       "        'right'           5\n",
       "        'center left'     6\n",
       "        'center right'    7\n",
       "        'lower center'    8\n",
       "        'upper center'    9\n",
       "        'center'          10\n",
       "        ===============   =============\n",
       "\n",
       "\n",
       "    Alternatively can be a 2-tuple giving ``x, y`` of the lower-left\n",
       "    corner of the legend in axes coordinates (in which case\n",
       "    ``bbox_to_anchor`` will be ignored).\n",
       "\n",
       "bbox_to_anchor : `.BboxBase` or pair of floats\n",
       "    Specify any arbitrary location for the legend in `bbox_transform`\n",
       "    coordinates (default Axes coordinates).\n",
       "\n",
       "    For example, to put the legend's upper right hand corner in the\n",
       "    center of the axes the following keywords can be used::\n",
       "\n",
       "       loc='upper right', bbox_to_anchor=(0.5, 0.5)\n",
       "\n",
       "ncol : integer\n",
       "    The number of columns that the legend has. Default is 1.\n",
       "\n",
       "prop : None or :class:`matplotlib.font_manager.FontProperties` or dict\n",
       "    The font properties of the legend. If None (default), the current\n",
       "    :data:`matplotlib.rcParams` will be used.\n",
       "\n",
       "fontsize : int or float or {'xx-small', 'x-small', 'small', 'medium', 'large', 'x-large', 'xx-large'}\n",
       "    Controls the font size of the legend. If the value is numeric the\n",
       "    size will be the absolute font size in points. String values are\n",
       "    relative to the current default font size. This argument is only\n",
       "    used if `prop` is not specified.\n",
       "\n",
       "numpoints : None or int\n",
       "    The number of marker points in the legend when creating a legend\n",
       "    entry for a `.Line2D` (line).\n",
       "    Default is ``None``, which will take the value from\n",
       "    :rc:`legend.numpoints`.\n",
       "\n",
       "scatterpoints : None or int\n",
       "    The number of marker points in the legend when creating\n",
       "    a legend entry for a `.PathCollection` (scatter plot).\n",
       "    Default is ``None``, which will take the value from\n",
       "    :rc:`legend.scatterpoints`.\n",
       "\n",
       "scatteryoffsets : iterable of floats\n",
       "    The vertical offset (relative to the font size) for the markers\n",
       "    created for a scatter plot legend entry. 0.0 is at the base the\n",
       "    legend text, and 1.0 is at the top. To draw all markers at the\n",
       "    same height, set to ``[0.5]``. Default is ``[0.375, 0.5, 0.3125]``.\n",
       "\n",
       "markerscale : None or int or float\n",
       "    The relative size of legend markers compared with the originally\n",
       "    drawn ones.\n",
       "    Default is ``None``, which will take the value from\n",
       "    :rc:`legend.markerscale`.\n",
       "\n",
       "markerfirst : bool\n",
       "    If *True*, legend marker is placed to the left of the legend label.\n",
       "    If *False*, legend marker is placed to the right of the legend\n",
       "    label.\n",
       "    Default is *True*.\n",
       "\n",
       "frameon : None or bool\n",
       "    Control whether the legend should be drawn on a patch\n",
       "    (frame).\n",
       "    Default is ``None``, which will take the value from\n",
       "    :rc:`legend.frameon`.\n",
       "\n",
       "fancybox : None or bool\n",
       "    Control whether round edges should be enabled around the\n",
       "    :class:`~matplotlib.patches.FancyBboxPatch` which makes up the\n",
       "    legend's background.\n",
       "    Default is ``None``, which will take the value from\n",
       "    :rc:`legend.fancybox`.\n",
       "\n",
       "shadow : None or bool\n",
       "    Control whether to draw a shadow behind the legend.\n",
       "    Default is ``None``, which will take the value from\n",
       "    :rc:`legend.shadow`.\n",
       "\n",
       "framealpha : None or float\n",
       "    Control the alpha transparency of the legend's background.\n",
       "    Default is ``None``, which will take the value from\n",
       "    :rc:`legend.framealpha`.  If shadow is activated and\n",
       "    *framealpha* is ``None``, the default value is ignored.\n",
       "\n",
       "facecolor : None or \"inherit\" or a color spec\n",
       "    Control the legend's background color.\n",
       "    Default is ``None``, which will take the value from\n",
       "    :rc:`legend.facecolor`.  If ``\"inherit\"``, it will take\n",
       "    :rc:`axes.facecolor`.\n",
       "\n",
       "edgecolor : None or \"inherit\" or a color spec\n",
       "    Control the legend's background patch edge color.\n",
       "    Default is ``None``, which will take the value from\n",
       "    :rc:`legend.edgecolor` If ``\"inherit\"``, it will take\n",
       "    :rc:`axes.edgecolor`.\n",
       "\n",
       "mode : {\"expand\", None}\n",
       "    If `mode` is set to ``\"expand\"`` the legend will be horizontally\n",
       "    expanded to fill the axes area (or `bbox_to_anchor` if defines\n",
       "    the legend's size).\n",
       "\n",
       "bbox_transform : None or :class:`matplotlib.transforms.Transform`\n",
       "    The transform for the bounding box (`bbox_to_anchor`). For a value\n",
       "    of ``None`` (default) the Axes'\n",
       "    :data:`~matplotlib.axes.Axes.transAxes` transform will be used.\n",
       "\n",
       "title : str or None\n",
       "    The legend's title. Default is no title (``None``).\n",
       "\n",
       "borderpad : float or None\n",
       "    The fractional whitespace inside the legend border.\n",
       "    Measured in font-size units.\n",
       "    Default is ``None``, which will take the value from\n",
       "    :rc:`legend.borderpad`.\n",
       "\n",
       "labelspacing : float or None\n",
       "    The vertical space between the legend entries.\n",
       "    Measured in font-size units.\n",
       "    Default is ``None``, which will take the value from\n",
       "    :rc:`legend.labelspacing`.\n",
       "\n",
       "handlelength : float or None\n",
       "    The length of the legend handles.\n",
       "    Measured in font-size units.\n",
       "    Default is ``None``, which will take the value from\n",
       "    :rc:`legend.handlelength`.\n",
       "\n",
       "handletextpad : float or None\n",
       "    The pad between the legend handle and text.\n",
       "    Measured in font-size units.\n",
       "    Default is ``None``, which will take the value from\n",
       "    :rc:`legend.handletextpad`.\n",
       "\n",
       "borderaxespad : float or None\n",
       "    The pad between the axes and legend border.\n",
       "    Measured in font-size units.\n",
       "    Default is ``None``, which will take the value from\n",
       "    :rc:`legend.borderaxespad`.\n",
       "\n",
       "columnspacing : float or None\n",
       "    The spacing between columns.\n",
       "    Measured in font-size units.\n",
       "    Default is ``None``, which will take the value from\n",
       "    :rc:`legend.columnspacing`.\n",
       "\n",
       "handler_map : dict or None\n",
       "    The custom dictionary mapping instances or types to a legend\n",
       "    handler. This `handler_map` updates the default handler map\n",
       "    found at :func:`matplotlib.legend.Legend.get_legend_handler_map`.\n",
       "\n",
       "Returns\n",
       "-------\n",
       ":class:`matplotlib.legend.Legend` instance\n",
       "\n",
       "Notes\n",
       "-----\n",
       "Not all kinds of artist are supported by the legend command. See\n",
       ":ref:`sphx_glr_tutorials_intermediate_legend_guide.py` for details.\n",
       "\u001b[0;31mFile:\u001b[0m      /anaconda3/lib/python3.6/site-packages/matplotlib/figure.py\n",
       "\u001b[0;31mType:\u001b[0m      method\n"
      ]
     },
     "metadata": {},
     "output_type": "display_data"
    }
   ],
   "source": [
    "fig.legend?"
   ]
  },
  {
   "cell_type": "code",
   "execution_count": 172,
   "metadata": {},
   "outputs": [
    {
     "data": {
      "text/plain": [
       "<matplotlib.legend.Legend at 0x10b2f7860>"
      ]
     },
     "execution_count": 172,
     "metadata": {},
     "output_type": "execute_result"
    },
    {
     "data": {
      "image/png": "[encoded data removed]",
      "text/plain": [
       "<Figure size 432x288 with 1 Axes>"
      ]
     },
     "metadata": {},
     "output_type": "display_data"
    },
    {
     "data": {
      "image/png": "[encoded data removed]",
      "text/plain": [
       "<Figure size 432x288 with 1 Axes>"
      ]
     },
     "metadata": {},
     "output_type": "display_data"
    }
   ],
   "source": [
    "fig1, ax1 = plt.subplots()\n",
    "fig2, ax2 = plt.subplots()\n",
    "ax1.bar(1, first_mean[1], yerr=first_std[1], label=\"exponential sinusoid\")\n",
    "ax1.bar(2, first_mean[2], yerr=first_std[2], label=\"chirping sinusoid\")\n",
    "ax1.bar(3, first_mean[3], yerr=first_std[3], label=\"expential decay\")\n",
    "fig1.suptitle(\"mean for first half of signals\", x=0.75)\n",
    "fig1.legend(loc=2)\n",
    "\n",
    "ax2.bar(1, second_mean[1], yerr=second_std[1], label=\"exponential sinusoid\")\n",
    "ax2.bar(2, second_mean[2], yerr=second_std[2], label=\"chirping sinusoid\")\n",
    "ax2.bar(3, second_mean[3], yerr=second_std[3], label=\"expential decay\")\n",
    "fig2.suptitle(\"mean for second half of signals\", x=0.33)\n",
    "fig2.legend()"
   ]
  },
  {
   "cell_type": "markdown",
   "metadata": {},
   "source": [
    "# Challenge 2: Working with labeled images"
   ]
  },
  {
   "cell_type": "code",
   "execution_count": null,
   "metadata": {},
   "outputs": [],
   "source": []
  },
  {
   "cell_type": "markdown",
   "metadata": {},
   "source": [
    "In the `data` folder you will find two files: `mnist_images.npy` and `mnist_labels.npy`. These two files contain a set of images and corresponding labels for **handwritten digits** found in a dataset called [MNIST](http://yann.lecun.com/exdb/mnist/)."
   ]
  },
  {
   "cell_type": "markdown",
   "metadata": {},
   "source": [
    "## Challenge 2.1"
   ]
  },
  {
   "cell_type": "markdown",
   "metadata": {},
   "source": [
    "Load the content of the `mnist_images.npy` and `mnist_labels.npy` into separate variables. `mnist_images.npy` contains a NumPy array representing a set of 100 **images** of hand written digits, where each image is 28 x 28 pixels in shape. `mnist_labels.npy` contains an array that holds the **labels** for all images - the digit that is written in the image."
   ]
  },
  {
   "cell_type": "code",
   "execution_count": null,
   "metadata": {},
   "outputs": [],
   "source": []
  },
  {
   "cell_type": "markdown",
   "metadata": {},
   "source": [
    "## Challenge 2.2"
   ]
  },
  {
   "cell_type": "markdown",
   "metadata": {},
   "source": [
    "Plot the first 16 MNIST images in 4 x 4 subplots. Be sure to use a suitable color map, and remove axis.\n",
    "\n",
    "**Hints** (you need not use the following to achieve the results but these are my recommendations):\n",
    "1. Use the object based way of creating Matplotlib figures - that is use `fig` and `ax` instead of just `plt`\n",
    "2. Use `fig, axs = plt.subplots(...)` to create a figure and appropriately arranged axes\n",
    "3. Use `ravel()` to flatten out an array when you want to visit the elements sequentially\n",
    "4. Use `zip` to pair up flattened list of `axs` and `images` to visit them in a pair"
   ]
  },
  {
   "cell_type": "code",
   "execution_count": null,
   "metadata": {},
   "outputs": [],
   "source": []
  },
  {
   "cell_type": "markdown",
   "metadata": {},
   "source": [
    "## Challenge 2.3"
   ]
  },
  {
   "cell_type": "markdown",
   "metadata": {},
   "source": [
    "Using the labels data, count the number of images for each digit. Plot this as bar plots, where each bar represents the number of images for a digit. Look up `plt.bar` docstring (i.e. run `plt.bar?`) to learn how to create bar plots."
   ]
  },
  {
   "cell_type": "code",
   "execution_count": null,
   "metadata": {},
   "outputs": [],
   "source": []
  },
  {
   "cell_type": "markdown",
   "metadata": {},
   "source": [
    "## Challenge 2.4 (Bonus)"
   ]
  },
  {
   "cell_type": "markdown",
   "metadata": {},
   "source": [
    "Show 3 example images from each of the 10 digits, and plot them. Ideally, you will plot them as 10 x 3 subplots (that is, 10 rows and 3 columns - each row is a digit and each column is an example).\n",
    "\n",
    "You may find the following pattern of plot axes iteration helpful:\n",
    "\n",
    "```python\n",
    "fig, axs = plt.subplots(5, 3)  # 5 rows, 3 columns\n",
    "\n",
    "for row, axs_row in enumerate(axs): # visiting each row\n",
    "    # here `row` is the row index\n",
    "    for col, ax in enumerate(axs_row): # now visit each column in a row\n",
    "        # here `col` is the column index\n",
    "        # ax is a single axes object at the row index `row` and column index `col`\n",
    "        \n",
    "        #...work with ax...\n",
    "```"
   ]
  },
  {
   "cell_type": "markdown",
   "metadata": {},
   "source": [
    "**Hints**:\n",
    "Think about how to get a NumPy array containing only images for a specific digit. Consider using boolean indexing. You can actually use fancy boolean index for each axis separately. That is:"
   ]
  },
  {
   "cell_type": "code",
   "execution_count": null,
   "metadata": {},
   "outputs": [],
   "source": [
    "data = np.array([[1, 2, 3, 4], [10, 20, 30, 40], [100, 200, 300, 400], [1000, 2000, 3000, 4000]])\n",
    "magnitude = np.array([1, 2, 0, 1])\n",
    "\n",
    "choice = magnitude == 1\n",
    "\n",
    "# fancy boolean indexing on axis=0 (rows) - can be thought of as selecting rows based on boolean indexing\n",
    "print('data[choice]=')\n",
    "print(data[choice])\n",
    "\n",
    "# same as above\n",
    "print('\\ndata[choice, :]=')\n",
    "print(data[choice, :])\n",
    "\n",
    "# fancy boolean indexing on axis=1 (columns) - selecting columns based on boolean indexing\n",
    "print('\\ndata[:, choice]=')\n",
    "print(data[:, choice])"
   ]
  },
  {
   "cell_type": "code",
   "execution_count": null,
   "metadata": {},
   "outputs": [],
   "source": [
    "# Your answer goes here\n"
   ]
  },
  {
   "cell_type": "markdown",
   "metadata": {},
   "source": [
    "# Challenge 3: Manipulating images with transparency"
   ]
  },
  {
   "cell_type": "markdown",
   "metadata": {},
   "source": [
    "**Directions**: Step through the following cells to learn about how alpha channel works in images. After that, attempt the challenges."
   ]
  },
  {
   "cell_type": "markdown",
   "metadata": {},
   "source": [
    "In the class you learned that a 3D array with 3 channels correpond to RGB colored images. It turns out that you can have yet another channel called **alpha** channel to specify the **transparency** of each pixel. Consider the following:"
   ]
  },
  {
   "cell_type": "code",
   "execution_count": null,
   "metadata": {},
   "outputs": [],
   "source": [
    "from scipy import misc"
   ]
  },
  {
   "cell_type": "code",
   "execution_count": null,
   "metadata": {},
   "outputs": [],
   "source": [
    "face = misc.face() # get face of racoon\n",
    "# make it into float image with values between 0 and 1\n",
    "face = face / 255.0"
   ]
  },
  {
   "cell_type": "code",
   "execution_count": null,
   "metadata": {},
   "outputs": [],
   "source": [
    "plt.imshow(face)\n",
    "plt.axis('off')"
   ]
  },
  {
   "cell_type": "markdown",
   "metadata": {},
   "source": [
    "Let's now load an image of checker board pattern:"
   ]
  },
  {
   "cell_type": "code",
   "execution_count": null,
   "metadata": {},
   "outputs": [],
   "source": [
    "import imageio\n",
    "chk = imageio.imread('data/checkerboard.jpg')"
   ]
  },
  {
   "cell_type": "code",
   "execution_count": null,
   "metadata": {},
   "outputs": [],
   "source": [
    "plt.imshow(chk)\n",
    "plt.axis('off')"
   ]
  },
  {
   "cell_type": "markdown",
   "metadata": {},
   "source": [
    "By default, plotting two images in a same figure causes the latter image to completely hide the earlier:"
   ]
  },
  {
   "cell_type": "code",
   "execution_count": null,
   "metadata": {},
   "outputs": [],
   "source": [
    "plt.imshow(chk)\n",
    "plt.imshow(face)\n",
    "plt.axis('off')"
   ]
  },
  {
   "cell_type": "markdown",
   "metadata": {},
   "source": [
    "However, you can control the **transparency** by adding the alpha achannel."
   ]
  },
  {
   "cell_type": "code",
   "execution_count": null,
   "metadata": {},
   "outputs": [],
   "source": [
    "h, w, c = face.shape\n",
    "alpha = np.ones((h, w, 1)) # create an image same shaped as face filled with ones as a\n",
    "face = np.concatenate([face, alpha], axis=2) # concatenate the alpha channel along the axis=2 (channel dimension)"
   ]
  },
  {
   "cell_type": "markdown",
   "metadata": {},
   "source": [
    "Now face has shape 4 in the channel dimension, and this channel is filled with 1s."
   ]
  },
  {
   "cell_type": "code",
   "execution_count": null,
   "metadata": {},
   "outputs": [],
   "source": [
    "face.shape"
   ]
  },
  {
   "cell_type": "markdown",
   "metadata": {},
   "source": [
    "At this point, the image is completely **opaque** and not transparent:"
   ]
  },
  {
   "cell_type": "code",
   "execution_count": null,
   "metadata": {},
   "outputs": [],
   "source": [
    "plt.imshow(chk)\n",
    "plt.imshow(face)\n",
    "plt.axis('off')"
   ]
  },
  {
   "cell_type": "markdown",
   "metadata": {},
   "source": [
    "But you can control the transparency by changing values in the alpha channel:"
   ]
  },
  {
   "cell_type": "code",
   "execution_count": null,
   "metadata": {},
   "outputs": [],
   "source": [
    "face[:, :, 3] = 0.8 # set alpha to 0.8 for all pixels"
   ]
  },
  {
   "cell_type": "code",
   "execution_count": null,
   "metadata": {},
   "outputs": [],
   "source": [
    "plt.imshow(chk)\n",
    "plt.imshow(face)\n",
    "plt.axis('off')"
   ]
  },
  {
   "cell_type": "markdown",
   "metadata": {},
   "source": [
    "Now the image of racoon (`face`) has **opacity** of 80%. In other words, it is 20% transparent."
   ]
  },
  {
   "cell_type": "markdown",
   "metadata": {},
   "source": [
    "You can set the transparency differntly for each pixel:"
   ]
  },
  {
   "cell_type": "code",
   "execution_count": null,
   "metadata": {},
   "outputs": [],
   "source": [
    "h, w, c = face.shape\n",
    "face[:, :, 3] = 1.0 # reset to opaque image\n",
    "face[:, w//2:, 3] = 0.9 # make right half 90% opacity"
   ]
  },
  {
   "cell_type": "code",
   "execution_count": null,
   "metadata": {},
   "outputs": [],
   "source": [
    "plt.imshow(chk)\n",
    "plt.imshow(face)\n",
    "plt.axis('off')"
   ]
  },
  {
   "cell_type": "markdown",
   "metadata": {},
   "source": [
    "Now that you have seen how opacity works, manipulate the alpha channel to achieve the following results:"
   ]
  },
  {
   "cell_type": "markdown",
   "metadata": {},
   "source": [
    "## Challenge 3.1"
   ]
  },
  {
   "cell_type": "markdown",
   "metadata": {},
   "source": [
    "100 pixel border that is at 60% opacity with opaque (non-transparent) center content:\n",
    "\n",
    "![challenge3.1](data/results3-1.png)"
   ]
  },
  {
   "cell_type": "code",
   "execution_count": null,
   "metadata": {},
   "outputs": [],
   "source": [
    "face[:, :, 3] = 1.0 # reset to opaque image\n",
    "\n",
    "# your code goes here"
   ]
  },
  {
   "cell_type": "code",
   "execution_count": null,
   "metadata": {},
   "outputs": [],
   "source": [
    "plt.imshow(chk)\n",
    "plt.imshow(face)\n",
    "plt.axis('off')"
   ]
  },
  {
   "cell_type": "markdown",
   "metadata": {},
   "source": [
    "## Challenge 3.2"
   ]
  },
  {
   "cell_type": "markdown",
   "metadata": {},
   "source": [
    "Pixel's opacity is 1.0 only where the value of the average RGB channel intensity is > 0.1.\n",
    "\n",
    "![challenge3.2](data/results3-2.png)"
   ]
  },
  {
   "cell_type": "code",
   "execution_count": null,
   "metadata": {},
   "outputs": [],
   "source": [
    "face[:, :, 3] = 1.0 # reset to opaque image\n",
    "\n",
    "# your code goes here"
   ]
  },
  {
   "cell_type": "code",
   "execution_count": null,
   "metadata": {},
   "outputs": [],
   "source": [
    "plt.imshow(chk)\n",
    "plt.imshow(face)\n",
    "plt.axis('off')"
   ]
  },
  {
   "cell_type": "markdown",
   "metadata": {},
   "source": [
    "## Challenge 3.3"
   ]
  },
  {
   "cell_type": "markdown",
   "metadata": {},
   "source": [
    "The opacity outside of circle of radius of 300 pixels is 0.6, and 1 inside of the circle.\n",
    "\n",
    "![challenge3.3](data/results3-3.png)"
   ]
  },
  {
   "cell_type": "code",
   "execution_count": null,
   "metadata": {},
   "outputs": [],
   "source": [
    "face[:, :, 3] = 1.0 # reset to opaque image\n",
    "\n",
    "# get a grid of y and x values\n",
    "h, w, c = face.shape\n",
    "xv = np.arange(w)[np.newaxis, :]\n",
    "yv = np.arange(h)[:, np.newaxis]\n",
    "cy, cx = h // 2, w // 2\n",
    "\n",
    "# Your code goes here:\n",
    "\n",
    "# Hint: do something to compute the distance from the center of the image at cy, cx\n",
    "# and then use that to manipulate opacity\n",
    "\n"
   ]
  },
  {
   "cell_type": "code",
   "execution_count": null,
   "metadata": {},
   "outputs": [],
   "source": [
    "plt.imshow(chk)\n",
    "plt.imshow(face)\n",
    "plt.axis('off')"
   ]
  },
  {
   "cell_type": "markdown",
   "metadata": {},
   "source": [
    "## Challenge 3.4 (Bonus)"
   ]
  },
  {
   "cell_type": "markdown",
   "metadata": {},
   "source": [
    "The opacity falls off with the distance from the center of the image following the following equation:\n",
    "\n",
    "$$\n",
    "o = 2^{-\\frac{d^2}{360000}}\n",
    "$$\n",
    "\n",
    "where $o$ is the opacity and $d$ is the distance from the center.\n",
    "\n",
    "![challenge3.4](data/results3-4.png)"
   ]
  },
  {
   "cell_type": "code",
   "execution_count": null,
   "metadata": {},
   "outputs": [],
   "source": [
    "face[:, :, 3] = 1.0 # reset to opaque image\n",
    "\n",
    "# get a grid of y and x values\n",
    "h, w, c = face.shape\n",
    "xv = np.arange(w)[np.newaxis, :]\n",
    "yv = np.arange(h)[:, np.newaxis]\n",
    "cy, cx = h // 2, w // 2\n",
    "\n",
    "# Your code goes here:\n",
    "\n",
    "# Hint: do something to compute the distance from the center of the image at cy, cx\n",
    "# and then use this to compute the opacity\n"
   ]
  },
  {
   "cell_type": "code",
   "execution_count": null,
   "metadata": {},
   "outputs": [],
   "source": [
    "plt.imshow(chk)\n",
    "plt.imshow(face)\n",
    "plt.axis('off')"
   ]
  }
 ],
 "metadata": {
  "kernelspec": {
   "display_name": "Python 3",
   "language": "python",
   "name": "python3"
  },
  "language_info": {
   "codemirror_mode": {
    "name": "ipython",
    "version": 3
   },
   "file_extension": ".py",
   "mimetype": "text/x-python",
   "name": "python",
   "nbconvert_exporter": "python",
   "pygments_lexer": "ipython3",
   "version": "3.6.5"
  }
 },
 "nbformat": 4,
 "nbformat_minor": 2
}
